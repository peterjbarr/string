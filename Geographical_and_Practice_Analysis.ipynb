{
 "cells": [
  {
   "cell_type": "markdown",
   "id": "3ebf63c8",
   "metadata": {},
   "source": [
    "# Geographical and Practice Data"
   ]
  },
  {
   "cell_type": "markdown",
   "id": "06a022d5",
   "metadata": {},
   "source": [
    "## Set up, Data loading"
   ]
  },
  {
   "cell_type": "code",
   "execution_count": 1,
   "id": "6e943299",
   "metadata": {
    "scrolled": true
   },
   "outputs": [
    {
     "name": "stdout",
     "output_type": "stream",
     "text": [
      "Requirement already satisfied: pandas in c:\\users\\nickw\\anaconda3\\lib\\site-packages (1.3.4)\n",
      "Requirement already satisfied: python-dateutil>=2.7.3 in c:\\users\\nickw\\anaconda3\\lib\\site-packages (from pandas) (2.8.2)\n",
      "Requirement already satisfied: numpy>=1.17.3 in c:\\users\\nickw\\anaconda3\\lib\\site-packages (from pandas) (1.20.3)\n",
      "Requirement already satisfied: pytz>=2017.3 in c:\\users\\nickw\\anaconda3\\lib\\site-packages (from pandas) (2021.3)\n",
      "Requirement already satisfied: six>=1.5 in c:\\users\\nickw\\anaconda3\\lib\\site-packages (from python-dateutil>=2.7.3->pandas) (1.16.0)\n",
      "Requirement already satisfied: matplotlib in c:\\users\\nickw\\anaconda3\\lib\\site-packages (3.4.3)\n",
      "Requirement already satisfied: cycler>=0.10 in c:\\users\\nickw\\anaconda3\\lib\\site-packages (from matplotlib) (0.10.0)\n",
      "Requirement already satisfied: python-dateutil>=2.7 in c:\\users\\nickw\\anaconda3\\lib\\site-packages (from matplotlib) (2.8.2)\n",
      "Requirement already satisfied: pyparsing>=2.2.1 in c:\\users\\nickw\\anaconda3\\lib\\site-packages (from matplotlib) (3.0.4)\n",
      "Requirement already satisfied: pillow>=6.2.0 in c:\\users\\nickw\\anaconda3\\lib\\site-packages (from matplotlib) (8.4.0)\n",
      "Requirement already satisfied: numpy>=1.16 in c:\\users\\nickw\\anaconda3\\lib\\site-packages (from matplotlib) (1.20.3)\n",
      "Requirement already satisfied: kiwisolver>=1.0.1 in c:\\users\\nickw\\anaconda3\\lib\\site-packages (from matplotlib) (1.3.1)\n",
      "Requirement already satisfied: six in c:\\users\\nickw\\anaconda3\\lib\\site-packages (from cycler>=0.10->matplotlib) (1.16.0)\n",
      "Requirement already satisfied: requests in c:\\users\\nickw\\anaconda3\\lib\\site-packages (2.26.0)\n",
      "Requirement already satisfied: charset-normalizer~=2.0.0 in c:\\users\\nickw\\anaconda3\\lib\\site-packages (from requests) (2.0.4)\n",
      "Requirement already satisfied: idna<4,>=2.5 in c:\\users\\nickw\\anaconda3\\lib\\site-packages (from requests) (3.2)\n",
      "Requirement already satisfied: urllib3<1.27,>=1.21.1 in c:\\users\\nickw\\anaconda3\\lib\\site-packages (from requests) (1.26.7)\n",
      "Requirement already satisfied: certifi>=2017.4.17 in c:\\users\\nickw\\anaconda3\\lib\\site-packages (from requests) (2021.10.8)\n",
      "Requirement already satisfied: notebook>=5.3 in c:\\users\\nickw\\anaconda3\\lib\\site-packages (6.4.5)\n",
      "Requirement already satisfied: ipywidgets>=7.5 in c:\\users\\nickw\\anaconda3\\lib\\site-packages (7.6.5)\n",
      "Requirement already satisfied: nbformat in c:\\users\\nickw\\anaconda3\\lib\\site-packages (from notebook>=5.3) (5.1.3)\n",
      "Requirement already satisfied: argon2-cffi in c:\\users\\nickw\\anaconda3\\lib\\site-packages (from notebook>=5.3) (20.1.0)\n",
      "Requirement already satisfied: pyzmq>=17 in c:\\users\\nickw\\anaconda3\\lib\\site-packages (from notebook>=5.3) (22.2.1)\n",
      "Requirement already satisfied: prometheus-client in c:\\users\\nickw\\anaconda3\\lib\\site-packages (from notebook>=5.3) (0.11.0)\n",
      "Requirement already satisfied: terminado>=0.8.3 in c:\\users\\nickw\\anaconda3\\lib\\site-packages (from notebook>=5.3) (0.9.4)\n",
      "Requirement already satisfied: Send2Trash>=1.5.0 in c:\\users\\nickw\\anaconda3\\lib\\site-packages (from notebook>=5.3) (1.8.0)\n",
      "Requirement already satisfied: traitlets>=4.2.1 in c:\\users\\nickw\\anaconda3\\lib\\site-packages (from notebook>=5.3) (5.1.0)\n",
      "Requirement already satisfied: nbconvert in c:\\users\\nickw\\anaconda3\\lib\\site-packages (from notebook>=5.3) (6.1.0)\n",
      "Requirement already satisfied: jupyter-client>=5.3.4 in c:\\users\\nickw\\anaconda3\\lib\\site-packages (from notebook>=5.3) (6.1.12)\n",
      "Requirement already satisfied: ipython-genutils in c:\\users\\nickw\\anaconda3\\lib\\site-packages (from notebook>=5.3) (0.2.0)\n",
      "Requirement already satisfied: jinja2 in c:\\users\\nickw\\anaconda3\\lib\\site-packages (from notebook>=5.3) (2.11.3)\n",
      "Requirement already satisfied: jupyter-core>=4.6.1 in c:\\users\\nickw\\anaconda3\\lib\\site-packages (from notebook>=5.3) (4.8.1)\n",
      "Requirement already satisfied: ipykernel in c:\\users\\nickw\\anaconda3\\lib\\site-packages (from notebook>=5.3) (6.4.1)\n",
      "Requirement already satisfied: tornado>=6.1 in c:\\users\\nickw\\anaconda3\\lib\\site-packages (from notebook>=5.3) (6.1)\n",
      "Requirement already satisfied: jupyterlab-widgets>=1.0.0 in c:\\users\\nickw\\anaconda3\\lib\\site-packages (from ipywidgets>=7.5) (1.0.0)\n",
      "Requirement already satisfied: widgetsnbextension~=3.5.0 in c:\\users\\nickw\\anaconda3\\lib\\site-packages (from ipywidgets>=7.5) (3.5.1)\n",
      "Requirement already satisfied: ipython>=4.0.0 in c:\\users\\nickw\\anaconda3\\lib\\site-packages (from ipywidgets>=7.5) (7.29.0)\n",
      "Requirement already satisfied: matplotlib-inline<0.2.0,>=0.1.0 in c:\\users\\nickw\\anaconda3\\lib\\site-packages (from ipykernel->notebook>=5.3) (0.1.2)\n",
      "Requirement already satisfied: debugpy<2.0,>=1.0.0 in c:\\users\\nickw\\anaconda3\\lib\\site-packages (from ipykernel->notebook>=5.3) (1.4.1)\n",
      "Requirement already satisfied: pygments in c:\\users\\nickw\\anaconda3\\lib\\site-packages (from ipython>=4.0.0->ipywidgets>=7.5) (2.10.0)\n",
      "Requirement already satisfied: backcall in c:\\users\\nickw\\anaconda3\\lib\\site-packages (from ipython>=4.0.0->ipywidgets>=7.5) (0.2.0)\n",
      "Requirement already satisfied: decorator in c:\\users\\nickw\\anaconda3\\lib\\site-packages (from ipython>=4.0.0->ipywidgets>=7.5) (5.1.0)\n",
      "Requirement already satisfied: setuptools>=18.5 in c:\\users\\nickw\\anaconda3\\lib\\site-packages (from ipython>=4.0.0->ipywidgets>=7.5) (58.0.4)\n",
      "Requirement already satisfied: colorama in c:\\users\\nickw\\anaconda3\\lib\\site-packages (from ipython>=4.0.0->ipywidgets>=7.5) (0.4.4)\n",
      "Requirement already satisfied: jedi>=0.16 in c:\\users\\nickw\\anaconda3\\lib\\site-packages (from ipython>=4.0.0->ipywidgets>=7.5) (0.18.0)\n",
      "Requirement already satisfied: prompt-toolkit!=3.0.0,!=3.0.1,<3.1.0,>=2.0.0 in c:\\users\\nickw\\anaconda3\\lib\\site-packages (from ipython>=4.0.0->ipywidgets>=7.5) (3.0.20)\n",
      "Requirement already satisfied: pickleshare in c:\\users\\nickw\\anaconda3\\lib\\site-packages (from ipython>=4.0.0->ipywidgets>=7.5) (0.7.5)\n",
      "Requirement already satisfied: parso<0.9.0,>=0.8.0 in c:\\users\\nickw\\anaconda3\\lib\\site-packages (from jedi>=0.16->ipython>=4.0.0->ipywidgets>=7.5) (0.8.2)\n",
      "Requirement already satisfied: python-dateutil>=2.1 in c:\\users\\nickw\\anaconda3\\lib\\site-packages (from jupyter-client>=5.3.4->notebook>=5.3) (2.8.2)\n",
      "Requirement already satisfied: pywin32>=1.0 in c:\\users\\nickw\\anaconda3\\lib\\site-packages (from jupyter-core>=4.6.1->notebook>=5.3) (228)\n",
      "Requirement already satisfied: jsonschema!=2.5.0,>=2.4 in c:\\users\\nickw\\anaconda3\\lib\\site-packages (from nbformat->notebook>=5.3) (3.2.0)\n",
      "Requirement already satisfied: pyrsistent>=0.14.0 in c:\\users\\nickw\\anaconda3\\lib\\site-packages (from jsonschema!=2.5.0,>=2.4->nbformat->notebook>=5.3) (0.18.0)\n",
      "Requirement already satisfied: attrs>=17.4.0 in c:\\users\\nickw\\anaconda3\\lib\\site-packages (from jsonschema!=2.5.0,>=2.4->nbformat->notebook>=5.3) (21.2.0)\n",
      "Requirement already satisfied: six>=1.11.0 in c:\\users\\nickw\\anaconda3\\lib\\site-packages (from jsonschema!=2.5.0,>=2.4->nbformat->notebook>=5.3) (1.16.0)\n",
      "Requirement already satisfied: wcwidth in c:\\users\\nickw\\anaconda3\\lib\\site-packages (from prompt-toolkit!=3.0.0,!=3.0.1,<3.1.0,>=2.0.0->ipython>=4.0.0->ipywidgets>=7.5) (0.2.5)\n",
      "Requirement already satisfied: pywinpty>=0.5 in c:\\users\\nickw\\anaconda3\\lib\\site-packages (from terminado>=0.8.3->notebook>=5.3) (0.5.7)\n",
      "Requirement already satisfied: cffi>=1.0.0 in c:\\users\\nickw\\anaconda3\\lib\\site-packages (from argon2-cffi->notebook>=5.3) (1.14.6)\n",
      "Requirement already satisfied: pycparser in c:\\users\\nickw\\anaconda3\\lib\\site-packages (from cffi>=1.0.0->argon2-cffi->notebook>=5.3) (2.20)\n",
      "Requirement already satisfied: MarkupSafe>=0.23 in c:\\users\\nickw\\anaconda3\\lib\\site-packages (from jinja2->notebook>=5.3) (1.1.1)\n",
      "Requirement already satisfied: bleach in c:\\users\\nickw\\anaconda3\\lib\\site-packages (from nbconvert->notebook>=5.3) (4.0.0)\n",
      "Requirement already satisfied: jupyterlab-pygments in c:\\users\\nickw\\anaconda3\\lib\\site-packages (from nbconvert->notebook>=5.3) (0.1.2)\n",
      "Requirement already satisfied: entrypoints>=0.2.2 in c:\\users\\nickw\\anaconda3\\lib\\site-packages (from nbconvert->notebook>=5.3) (0.3)\n",
      "Requirement already satisfied: pandocfilters>=1.4.1 in c:\\users\\nickw\\anaconda3\\lib\\site-packages (from nbconvert->notebook>=5.3) (1.4.3)\n",
      "Requirement already satisfied: defusedxml in c:\\users\\nickw\\anaconda3\\lib\\site-packages (from nbconvert->notebook>=5.3) (0.7.1)\n",
      "Requirement already satisfied: testpath in c:\\users\\nickw\\anaconda3\\lib\\site-packages (from nbconvert->notebook>=5.3) (0.5.0)\n",
      "Requirement already satisfied: mistune<2,>=0.8.1 in c:\\users\\nickw\\anaconda3\\lib\\site-packages (from nbconvert->notebook>=5.3) (0.8.4)\n",
      "Requirement already satisfied: nbclient<0.6.0,>=0.5.0 in c:\\users\\nickw\\anaconda3\\lib\\site-packages (from nbconvert->notebook>=5.3) (0.5.3)\n",
      "Requirement already satisfied: nest-asyncio in c:\\users\\nickw\\anaconda3\\lib\\site-packages (from nbclient<0.6.0,>=0.5.0->nbconvert->notebook>=5.3) (1.5.1)\n",
      "Requirement already satisfied: async-generator in c:\\users\\nickw\\anaconda3\\lib\\site-packages (from nbclient<0.6.0,>=0.5.0->nbconvert->notebook>=5.3) (1.10)\n",
      "Requirement already satisfied: webencodings in c:\\users\\nickw\\anaconda3\\lib\\site-packages (from bleach->nbconvert->notebook>=5.3) (0.5.1)\n",
      "Requirement already satisfied: packaging in c:\\users\\nickw\\anaconda3\\lib\\site-packages (from bleach->nbconvert->notebook>=5.3) (21.0)\n",
      "Requirement already satisfied: pyparsing>=2.0.2 in c:\\users\\nickw\\anaconda3\\lib\\site-packages (from packaging->bleach->nbconvert->notebook>=5.3) (3.0.4)\n"
     ]
    },
    {
     "name": "stdout",
     "output_type": "stream",
     "text": [
      "Requirement already satisfied: plotly in c:\\users\\nickw\\anaconda3\\lib\\site-packages (5.5.0)\n",
      "Requirement already satisfied: tenacity>=6.2.0 in c:\\users\\nickw\\anaconda3\\lib\\site-packages (from plotly) (8.0.1)\n",
      "Requirement already satisfied: six in c:\\users\\nickw\\anaconda3\\lib\\site-packages (from plotly) (1.16.0)\n"
     ]
    }
   ],
   "source": [
    "##Initial Set Up\n",
    "\n",
    "!pip install pandas\n",
    "!pip install matplotlib\n",
    "!pip install requests\n",
    "!pip install \"notebook>=5.3\" \"ipywidgets>=7.5\"\n",
    "!pip install plotly\n",
    "\n",
    "import pandas as pd\n",
    "import matplotlib\n",
    "import matplotlib.pyplot as plt\n",
    "import requests\n",
    "import plotly.express as px\n",
    "import plotly.io as pio\n",
    "pio.renderers.default = 'browser'"
   ]
  },
  {
   "cell_type": "markdown",
   "id": "7b8331a1",
   "metadata": {},
   "source": [
    "import data"
   ]
  },
  {
   "cell_type": "code",
   "execution_count": 2,
   "id": "a399b7c6",
   "metadata": {},
   "outputs": [],
   "source": [
    "M2020 = pd.read_csv (r'C:\\Users\\nickw\\OneDrive\\Documents\\Python Scripts\\Test\\Test\\EPD_202004.csv')\n",
    "\n",
    "M2021 = pd.read_csv (r'C:\\Users\\nickw\\OneDrive\\Documents\\Python Scripts\\Test\\Test\\EPD_202104.csv')\n",
    "\n",
    "##Import Population Data by Practice\n",
    "\n",
    "pop_gp_2020 = pd.read_csv (r'C:\\Users\\nickw\\OneDrive\\Documents\\Python Scripts\\Test\\Test\\gp_pop.csv')\n",
    "\n",
    "pop_gp_2021 = pd.read_csv (r'C:\\Users\\nickw\\OneDrive\\Documents\\Python Scripts\\Test\\Test\\GP_Pop_2021.csv')\n",
    "\n",
    "##Import Geojson\n",
    "\n",
    "r = requests.get('https://raw.githubusercontent.com/missinglink/uk-postcode-polygons/master/geojson/M.geojson')\n",
    "\n",
    "Manchester_Map = r.json()"
   ]
  },
  {
   "cell_type": "markdown",
   "id": "595ba609",
   "metadata": {},
   "source": [
    "## OPTIONAL BNF CHAPTER PLUS Codes \n",
    "\n",
    "Use this section with BNF_CHAPTER_PLUS_CODE to view regional data based on specific catergories (prompted by Peters research I have run it on a \"02: Cardiovascular System\" as one of the areas of intrest and have put choropleth maps in folder)   "
   ]
  },
  {
   "cell_type": "code",
   "execution_count": null,
   "id": "5e3649b0",
   "metadata": {},
   "outputs": [],
   "source": [
    "BNF_Code = \"\"\n",
    "\n",
    "M2020 = M2020[M2020['BNF_CHAPTER_PLUS_CODE']== BNF_Code]\n",
    "\n",
    "M2021 = M2021[M2021['BNF_CHAPTER_PLUS_CODE']== BNF_Code]"
   ]
  },
  {
   "cell_type": "markdown",
   "id": "f8f45c83",
   "metadata": {},
   "source": [
    "## Clean, Link and Test Data"
   ]
  },
  {
   "cell_type": "code",
   "execution_count": 3,
   "id": "79e5b821",
   "metadata": {},
   "outputs": [
    {
     "name": "stdout",
     "output_type": "stream",
     "text": [
      "79                COMMUNITY PAEDIATRICIANS\n",
      "80      VIOLENT PATIENT ENHANCED SERVICE 1\n",
      "81                                    PCEC\n",
      "82                     BUCCLEUCH LODGE ICF\n",
      "84     GORTON PARKS INTERMEDIATE CARE UNIT\n",
      "86       NURSING HOME PROJECT TEAM (SOUTH)\n",
      "88           GTD HEALTHCARE GP SERVICE OOH\n",
      "92        TURNING POINT SMITHFIELD SERVICE\n",
      "93              CONTINENCE SERVICE PROJECT\n",
      "94                       NMPS TRAFFORD LCO\n",
      "95                PAHNT COMMUNITY SERVICES\n",
      "96        MFT CHILDRENS COMMUNITY SERVICES\n",
      "97            MFT ADULT COMMUNITY SERVICES\n",
      "98                 UHSM COMMUNITY SERVICES\n",
      "99                    CRISIS RESPONSE TEAM\n",
      "100        PRIMARY CARE MANCHESTER LIMITED\n",
      "101          INTERMEDIATE CARE (THE PEELE)\n",
      "102                                  SMGPF\n",
      "103        BEACON MEDICAL SERVICES LIMITED\n",
      "104                  NORTHERN HEALTH HUB 1\n",
      "105     BARTON MOSS SECURE CHILDREN'S HOME\n",
      "106           ST CATHERINE'S SECURE CENTRE\n",
      "107         CONTINENCE PRESCRIBING SERVICE\n",
      "108         NORTHERN HEALTH GPPO A & E HUB\n",
      "109    CMFT CONTINENCE PRESCRIBING SERVICE\n",
      "110             COMMUNITY PAEDIATRICS TLCO\n",
      "Name: PRACTICE_NAME, dtype: object\n"
     ]
    }
   ],
   "source": [
    "##Split the postcode\n",
    "\n",
    "M2020[['Postcode_Region', 'Postcode_Detail']] = M2020.POSTCODE.str.split(\" \", expand=True)\n",
    "\n",
    "##Group by Practice sum\n",
    "\n",
    "M2020 = M2020.groupby(['PRACTICE_CODE', 'POSTCODE', 'PRACTICE_NAME', 'Postcode_Region']).sum().reset_index()\n",
    "\n",
    "## Link with Popualtion Data for GP Practices\n",
    "\n",
    "M2020 = pd.merge(M2020,pop_gp_2020 ,on='PRACTICE_CODE',how='left')\n",
    "\n",
    "M2020 ['Cost_Capita']= M2020.ACTUAL_COST/M2020.Population\n",
    "\n",
    "##Test all rows where null \n",
    "\n",
    "TestM2020= M2020[M2020.isna().any(axis=1)]\n",
    "\n",
    "print(TestM2020['PRACTICE_NAME'])"
   ]
  },
  {
   "cell_type": "markdown",
   "id": "17fe692a",
   "metadata": {},
   "source": [
    "We can see that (through local knowledge) that the above do not correspond to specific GP practices but are generally wider community services.\n",
    "\n",
    "In the next sections we simply remove these cases, group the surgeries together by postcode and create a different per capitia cost (based on a static number of patients registered at the GP circa April 2021). This obviously could have changed within a year meaningfully but technical issues meant the 2020 data was less reliable"
   ]
  },
  {
   "cell_type": "code",
   "execution_count": 4,
   "id": "8fc60160",
   "metadata": {},
   "outputs": [],
   "source": [
    "M2020 = M2020[M2020['Population'].notna()]\n",
    "\n",
    "##New Dataset by Postcode\n",
    "\n",
    "M2020_Postcode = M2020.groupby(['Postcode_Region']).sum().reset_index()\n",
    "\n",
    "M2020_Postcode['Cost_Capita2']= M2020_Postcode.ACTUAL_COST/M2020_Postcode.Population"
   ]
  },
  {
   "cell_type": "markdown",
   "id": "2d166c21",
   "metadata": {},
   "source": [
    "Repeat Process for 2021 data"
   ]
  },
  {
   "cell_type": "code",
   "execution_count": 5,
   "id": "963d1740",
   "metadata": {},
   "outputs": [
    {
     "name": "stdout",
     "output_type": "stream",
     "text": [
      "79                COMMUNITY PAEDIATRICIANS\n",
      "80                                    PCEC\n",
      "81                     BUCCLEUCH LODGE ICF\n",
      "83                       INTERMEDIATE CARE\n",
      "84     GORTON PARKS INTERMEDIATE CARE UNIT\n",
      "86       NURSING HOME PROJECT TEAM (SOUTH)\n",
      "88           GTD HEALTHCARE GP SERVICE OOH\n",
      "92        TURNING POINT SMITHFIELD SERVICE\n",
      "93              CONTINENCE SERVICE PROJECT\n",
      "94                       NMPS TRAFFORD LCO\n",
      "95                PAHNT COMMUNITY SERVICES\n",
      "96        MFT CHILDRENS COMMUNITY SERVICES\n",
      "97            MFT ADULT COMMUNITY SERVICES\n",
      "98                 UHSM COMMUNITY SERVICES\n",
      "99                    CRISIS RESPONSE TEAM\n",
      "100        PRIMARY CARE MANCHESTER LIMITED\n",
      "101                                  SMGPF\n",
      "102        BEACON MEDICAL SERVICES LIMITED\n",
      "103                  WIGAN ASSESSMENT TEAM\n",
      "104         CONTINENCE PRESCRIBING SERVICE\n",
      "105             NORTHERN HEALTH GPPO HUB 4\n",
      "106         NORTHERN HEALTH GPPO A & E HUB\n",
      "107            WIGAN & LEIGH RECOVERY TEAM\n",
      "108              WIGAN HOME TREATMENT TEAM\n",
      "109                          LD TEAM WIGAN\n",
      "110                            WIGAN CAMHS\n",
      "111    CMFT CONTINENCE PRESCRIBING SERVICE\n",
      "112              WIGAN RECOVERY TEAM NORTH\n",
      "113             ADULT ADHD WIGAN/LEIGH NMP\n",
      "114             COMMUNITY PAEDIATRICS TLCO\n",
      "Name: PRACTICE_NAME, dtype: object\n"
     ]
    }
   ],
   "source": [
    "M2021[['Postcode_Region', 'Postcode_Detail']] = M2021.POSTCODE.str.split(\" \", expand=True)\n",
    "\n",
    "M2021 = M2021.groupby(['PRACTICE_CODE', 'POSTCODE', 'PRACTICE_NAME', 'Postcode_Region']).sum().reset_index()\n",
    "\n",
    "M2021 = pd.merge(M2021,pop_gp_2021 ,on='PRACTICE_CODE',how='left')\n",
    "\n",
    "M2021['Cost_Capita']= M2021.ACTUAL_COST/M2021.Population\n",
    "\n",
    "##Test all null rows are non-specific to GP Practice\n",
    "\n",
    "TestM2021= M2021[M2021.isna().any(axis=1)]\n",
    "\n",
    "print(TestM2021['PRACTICE_NAME'])\n",
    "\n",
    "M2021 = M2021[M2021['Population'].notna()]\n",
    "\n",
    "M2021_Postcode = M2021.groupby(['Postcode_Region']).sum().reset_index()\n",
    "\n",
    "M2021_Postcode['Cost_Capita2']= M2021_Postcode.ACTUAL_COST/M2021_Postcode.Population"
   ]
  },
  {
   "cell_type": "markdown",
   "id": "fc989ba9",
   "metadata": {},
   "source": [
    "## Create base data frames for analysis"
   ]
  },
  {
   "cell_type": "markdown",
   "id": "8026e003",
   "metadata": {},
   "source": [
    "Merge GP Practices Dataframes together remove unneccesary information and calulcate percentage change and order"
   ]
  },
  {
   "cell_type": "code",
   "execution_count": 6,
   "id": "31f2a407",
   "metadata": {},
   "outputs": [],
   "source": [
    "##Rename Columns\n",
    "\n",
    "M2020.rename(columns = {'Cost_Capita' : 'Cost_2020'}, inplace= True)\n",
    "\n",
    "M2021.rename(columns = {'Cost_Capita' : 'Cost_2021'}, inplace= True)\n",
    "\n",
    "##Merge 2020/2021\n",
    "\n",
    "Site_Cost = pd.merge(M2020,M2021, how='outer', on= 'PRACTICE_CODE')\n",
    "\n",
    "##Remove unneccessary columns\n",
    "\n",
    "Site_Cost.drop(Site_Cost.columns[3:13], axis = 1, inplace = True)\n",
    "\n",
    "Site_Cost.drop(Site_Cost.columns[4:16], axis = 1, inplace = True)\n",
    "\n",
    "##Percentage Change\n",
    "\n",
    "Site_Cost['Percentage_Change']= (Site_Cost.Cost_2021/Site_Cost.Cost_2020-1)*100\n",
    "\n",
    "## Sort by 2021\n",
    "\n",
    "Site_Cost =Site_Cost.sort_values(by = 'Cost_2021', ascending= False)\n",
    "\n",
    "Site_Cost.set_index(\"PRACTICE_NAME_x\", drop=False, inplace = True)"
   ]
  },
  {
   "cell_type": "markdown",
   "id": "1c9e49c7",
   "metadata": {},
   "source": [
    "Merge for a postcode level view"
   ]
  },
  {
   "cell_type": "code",
   "execution_count": 7,
   "id": "be39fed7",
   "metadata": {},
   "outputs": [],
   "source": [
    "## Merge for Postcode\n",
    "\n",
    "M2021_Postcode.rename(columns = {'Cost_Capita2' : 'Cost_2021'}, inplace= True)\n",
    "\n",
    "M2020_Postcode.rename(columns = {'Cost_Capita2' : 'Cost_2020'}, inplace= True)\n",
    "\n",
    "M2020_Postcode.drop(M2020_Postcode.columns[1:11], axis = 1, inplace = True)\n",
    "\n",
    "M2021_Postcode.drop(M2021_Postcode.columns[1:11], axis = 1, inplace = True)\n",
    "\n",
    "Postcode_Cost = pd.merge(M2020_Postcode,M2021_Postcode, how='outer', on= 'Postcode_Region')\n",
    "\n",
    "Postcode_Cost['Percentage_Change']= (Postcode_Cost.Cost_2021/Postcode_Cost.Cost_2020-1)*100"
   ]
  },
  {
   "cell_type": "markdown",
   "id": "fec3be63",
   "metadata": {},
   "source": [
    "## Exploratory Visuals for GP's Perscription Spend"
   ]
  },
  {
   "cell_type": "code",
   "execution_count": 8,
   "id": "72d73358",
   "metadata": {},
   "outputs": [
    {
     "data": {
      "image/png": "[encoded data removed]",
      "text/plain": [
       "<Figure size 432x288 with 1 Axes>"
      ]
     },
     "metadata": {
      "needs_background": "light"
     },
     "output_type": "display_data"
    }
   ],
   "source": [
    "Comparison_Practice_21_22 = Site_Cost[['Cost_2020', 'Cost_2021']].boxplot()"
   ]
  },
  {
   "cell_type": "markdown",
   "id": "82099100",
   "metadata": {},
   "source": [
    "Basic Comments"
   ]
  },
  {
   "cell_type": "code",
   "execution_count": 9,
   "id": "c16acee6",
   "metadata": {},
   "outputs": [
    {
     "data": {
      "image/png": "[encoded data removed]",
      "text/plain": [
       "<Figure size 432x288 with 1 Axes>"
      ]
     },
     "metadata": {
      "needs_background": "light"
     },
     "output_type": "display_data"
    }
   ],
   "source": [
    "Bar_Site = Site_Cost.plot(kind = 'barh', y= 'Cost_2021', x='PRACTICE_NAME_x').tick_params(axis= 'y' , labelsize = 2)"
   ]
  },
  {
   "cell_type": "code",
   "execution_count": null,
   "id": "c1e6a365",
   "metadata": {},
   "outputs": [],
   "source": [
    "Baic comments"
   ]
  },
  {
   "cell_type": "markdown",
   "id": "0bd2c31b",
   "metadata": {},
   "source": [
    "## Sites of Intrest for PHE"
   ]
  },
  {
   "cell_type": "code",
   "execution_count": 10,
   "id": "37b89c57",
   "metadata": {},
   "outputs": [
    {
     "data": {
      "text/plain": [
       "Text(0.5, 1.0, 'Top 10 Highest Spending (Per Capita) GP Surgeries')"
      ]
     },
     "execution_count": 10,
     "metadata": {},
     "output_type": "execute_result"
    },
    {
     "data": {
      "image/png": "[encoded data removed]",
      "text/plain": [
       "<Figure size 432x288 with 1 Axes>"
      ]
     },
     "metadata": {
      "needs_background": "light"
     },
     "output_type": "display_data"
    }
   ],
   "source": [
    "## Top 10\n",
    "\n",
    "Site_Cost_Top_10 = Site_Cost.nlargest(10, \"Cost_2021\")\n",
    "\n",
    "Top_10 = Site_Cost_Top_10[['Cost_2021', 'Cost_2020']].plot.barh()\n",
    "plt.ylabel('PRACTICE NAME')\n",
    "plt.xlabel('Cost Per Capita (£), April')\n",
    "plt.title('Top 10 Highest Spending (Per Capita) GP Surgeries')"
   ]
  },
  {
   "cell_type": "markdown",
   "id": "dc9da2ae",
   "metadata": {},
   "source": [
    "Comment"
   ]
  },
  {
   "cell_type": "code",
   "execution_count": 11,
   "id": "4f8e826c",
   "metadata": {},
   "outputs": [
    {
     "data": {
      "image/png": "[encoded data removed]",
      "text/plain": [
       "<Figure size 432x288 with 1 Axes>"
      ]
     },
     "metadata": {
      "needs_background": "light"
     },
     "output_type": "display_data"
    }
   ],
   "source": [
    "# Bottom 10\n",
    "\n",
    "Site_Cost_Bottom_10 = Site_Cost.nsmallest(10, \"Cost_2021\")\n",
    "\n",
    "Bottom_10 = Site_Cost_Bottom_10[['Cost_2021', 'Cost_2020']].plot.barh()\n",
    "plt.ylabel('PRACTICE NAME')\n",
    "plt.xlabel('Cost Per Capita (£), April')\n",
    "plt.title('Bottom 10 Spending (Per Capita) GP Surgeries')\n",
    "plt.show()"
   ]
  },
  {
   "cell_type": "markdown",
   "id": "86c57df0",
   "metadata": {},
   "source": []
  },
  {
   "cell_type": "code",
   "execution_count": 12,
   "id": "9e9d030e",
   "metadata": {},
   "outputs": [
    {
     "name": "stdout",
     "output_type": "stream",
     "text": [
      "       Cost_2020  Population_y  Cost_2021  Percentage_Change\n",
      "count  85.000000     85.000000  85.000000          85.000000\n",
      "mean   11.850550   7973.470588  12.029193           2.407316\n",
      "std     3.305455   3942.665356   3.200868           9.367835\n",
      "min     3.120043   1808.000000   3.437274         -28.543823\n",
      "25%     9.507459   5292.000000   9.988564          -3.613998\n",
      "50%    11.956393   7059.000000  12.159857           3.202806\n",
      "75%    14.089607   9573.000000  14.330138           6.768971\n",
      "max    18.845562  23425.000000  19.399125          42.611368\n",
      "                              PRACTICE_CODE POSTCODE  \\\n",
      "PRACTICE_NAME_x                                        \n",
      "AL-SHIFA MEDICAL CENTRE              P84665  M20 3HE   \n",
      "THE ARCH MEDICAL PRACTICE            P84630  M15 5TJ   \n",
      "AILSA CRAIG MEDICAL CENTRE           P84009  M13 0YL   \n",
      "NEW COLLEGIATE MEDICAL CENTRE        P84030   M8 0DA   \n",
      "MANCHESTER MEDICAL                   P84616  M14 4GP   \n",
      "\n",
      "                                             PRACTICE_NAME_x  Cost_2020  \\\n",
      "PRACTICE_NAME_x                                                           \n",
      "AL-SHIFA MEDICAL CENTRE              AL-SHIFA MEDICAL CENTRE   6.495066   \n",
      "THE ARCH MEDICAL PRACTICE          THE ARCH MEDICAL PRACTICE   5.271582   \n",
      "AILSA CRAIG MEDICAL CENTRE        AILSA CRAIG MEDICAL CENTRE  10.272395   \n",
      "NEW COLLEGIATE MEDICAL CENTRE  NEW COLLEGIATE MEDICAL CENTRE  11.271277   \n",
      "MANCHESTER MEDICAL                        MANCHESTER MEDICAL   9.347083   \n",
      "\n",
      "                               Population_y  Cost_2021  Percentage_Change  \n",
      "PRACTICE_NAME_x                                                            \n",
      "AL-SHIFA MEDICAL CENTRE              2788.0   9.262703          42.611368  \n",
      "THE ARCH MEDICAL PRACTICE           19095.0   6.389897          21.214032  \n",
      "AILSA CRAIG MEDICAL CENTRE          11450.0  12.406733          20.777404  \n",
      "NEW COLLEGIATE MEDICAL CENTRE       13747.0  13.131255          16.501927  \n",
      "MANCHESTER MEDICAL                   8633.0  10.872308          16.317654  \n"
     ]
    },
    {
     "data": {
      "image/png": "[encoded data removed]",
      "text/plain": [
       "<Figure size 432x288 with 1 Axes>"
      ]
     },
     "metadata": {
      "needs_background": "light"
     },
     "output_type": "display_data"
    }
   ],
   "source": [
    "#Change difference\n",
    "\n",
    "Site_Cost =Site_Cost.sort_values(by = 'Percentage_Change', ascending= False)\n",
    "\n",
    "Site_Change = Site_Cost.boxplot( column = \"Percentage_Change\", return_type = 'axes')\n",
    "\n",
    "print(Site_Cost.describe())\n",
    "\n",
    "print(Site_Cost.head())"
   ]
  },
  {
   "cell_type": "markdown",
   "id": "1a7a8bec",
   "metadata": {},
   "source": []
  },
  {
   "cell_type": "markdown",
   "id": "0fd79efa",
   "metadata": {},
   "source": [
    "## Regional Data"
   ]
  },
  {
   "cell_type": "code",
   "execution_count": 13,
   "id": "5144df6c",
   "metadata": {},
   "outputs": [
    {
     "data": {
      "image/png": "[encoded data removed]",
      "text/plain": [
       "<Figure size 432x288 with 1 Axes>"
      ]
     },
     "metadata": {
      "needs_background": "light"
     },
     "output_type": "display_data"
    }
   ],
   "source": [
    "Postcode_Cost =Postcode_Cost.sort_values(by = 'Cost_2021', ascending= False)\n",
    "\n",
    "Postcode_Cost.set_index(\"Postcode_Region\", drop=False, inplace = True)\n",
    "\n",
    "Postcode_Bar = Postcode_Cost[['Cost_2021', 'Cost_2020']].plot.bar()\n",
    "plt.xlabel('Postcode Region')\n",
    "plt.ylabel('Cost Per Capita (£), April')\n",
    "plt.title('Postcode Per Capita Cost')\n",
    "plt.show()"
   ]
  },
  {
   "cell_type": "markdown",
   "id": "b546147d",
   "metadata": {},
   "source": []
  },
  {
   "cell_type": "markdown",
   "id": "23ab01b3",
   "metadata": {},
   "source": [
    "## Maps"
   ]
  },
  {
   "cell_type": "code",
   "execution_count": 14,
   "id": "03a85946",
   "metadata": {},
   "outputs": [],
   "source": [
    "Manchester_Map['features'][1]['properties']\n",
    "\n",
    "Postcode_Cost['id']= Postcode_Cost['Postcode_Region']\n",
    "\n",
    "Postcode_Dictionary = {}\n",
    "\n",
    "for feature in Manchester_Map['features']:\n",
    "    feature['id']=feature['properties']['name']\n",
    "    Postcode_Dictionary[feature['properties']['name']] =feature['id']\n",
    "    \n",
    "fig1 = px.choropleth(Postcode_Cost, locations = 'id', geojson= Manchester_Map, color= 'Cost_2021', hover_name='Postcode_Region', title= \"Cost Per Capita April 2021\" )\n",
    "fig1.update_geos(fitbounds = \"locations\", visible= False)\n",
    "fig1.show()\n",
    "\n",
    "fig2 = px.choropleth(Postcode_Cost, locations = 'id', geojson= Manchester_Map, color= 'Cost_2020', hover_name='Postcode_Region', title= \"Cost Per Capita April 2020\" )\n",
    "fig2.update_geos(fitbounds = \"locations\", visible= False)\n",
    "fig2.show()\n",
    "\n",
    "fig3 = px.choropleth(Postcode_Cost, locations = 'id', geojson= Manchester_Map, color= 'Percentage_Change', hover_name='Postcode_Region', title= \"Percentage Change in cost\" )\n",
    "fig3.update_geos(fitbounds = \"locations\", visible= False)\n",
    "fig3.show()"
   ]
  }
 ],
 "metadata": {
  "celltoolbar": "Edit Metadata",
  "kernelspec": {
   "display_name": "Python 3 (ipykernel)",
   "language": "python",
   "name": "python3"
  },
  "language_info": {
   "codemirror_mode": {
    "name": "ipython",
    "version": 3
   },
   "file_extension": ".py",
   "mimetype": "text/x-python",
   "name": "python",
   "nbconvert_exporter": "python",
   "pygments_lexer": "ipython3",
   "version": "3.9.7"
  }
 },
 "nbformat": 4,
 "nbformat_minor": 5
}
