{
 "cells": [
  {
   "cell_type": "markdown",
   "id": "3ebf63c8",
   "metadata": {},
   "source": [
    "# Geographical and Practice Data\n",
    "\n",
    "Below we take the two csv files as well as relevant number of patients registered at each GP Surgery (dropping GP specific data) so we can then help PHE assess the per capita variations in cost between these time frames for each surgery as well as painting a broader picture of the needs of Manchester for prescriptions by costs and identifying potential areas of investigation to enable better financial management. We need parse the postcode and repeat the process and finally using GeoJson allow us to visualise these differences. Finally, to enable more broad capacity needs assessment we repeat this procedure on total cost. I have also added an optional cell to enable a deeper dive into domain specific prescription type needs.   "
   ]
  },
  {
   "cell_type": "markdown",
   "id": "06a022d5",
   "metadata": {},
   "source": [
    "## Set up, Data loading\n",
    "importing pandas for dataset manipulation, matplotlib for non-geographical visualations, requests to pull geojson from github, plotly for geographical (interactive) visualisations and use plotly.io to enable us to push these to browser "
   ]
  },
  {
   "cell_type": "code",
   "execution_count": 16,
   "id": "6e943299",
   "metadata": {
    "scrolled": true
   },
   "outputs": [
    {
     "name": "stdout",
     "output_type": "stream",
     "text": [
      "Requirement already satisfied: pandas in c:\\users\\nickw\\anaconda3\\lib\\site-packages (1.3.4)\n",
      "Requirement already satisfied: numpy>=1.17.3 in c:\\users\\nickw\\anaconda3\\lib\\site-packages (from pandas) (1.20.3)\n",
      "Requirement already satisfied: pytz>=2017.3 in c:\\users\\nickw\\anaconda3\\lib\\site-packages (from pandas) (2021.3)\n",
      "Requirement already satisfied: python-dateutil>=2.7.3 in c:\\users\\nickw\\anaconda3\\lib\\site-packages (from pandas) (2.8.2)\n",
      "Requirement already satisfied: six>=1.5 in c:\\users\\nickw\\anaconda3\\lib\\site-packages (from python-dateutil>=2.7.3->pandas) (1.16.0)\n",
      "Requirement already satisfied: matplotlib in c:\\users\\nickw\\anaconda3\\lib\\site-packages (3.4.3)\n",
      "Requirement already satisfied: numpy>=1.16 in c:\\users\\nickw\\anaconda3\\lib\\site-packages (from matplotlib) (1.20.3)\n",
      "Requirement already satisfied: cycler>=0.10 in c:\\users\\nickw\\anaconda3\\lib\\site-packages (from matplotlib) (0.10.0)\n",
      "Requirement already satisfied: python-dateutil>=2.7 in c:\\users\\nickw\\anaconda3\\lib\\site-packages (from matplotlib) (2.8.2)\n",
      "Requirement already satisfied: kiwisolver>=1.0.1 in c:\\users\\nickw\\anaconda3\\lib\\site-packages (from matplotlib) (1.3.1)\n",
      "Requirement already satisfied: pillow>=6.2.0 in c:\\users\\nickw\\anaconda3\\lib\\site-packages (from matplotlib) (8.4.0)\n",
      "Requirement already satisfied: pyparsing>=2.2.1 in c:\\users\\nickw\\anaconda3\\lib\\site-packages (from matplotlib) (3.0.4)\n",
      "Requirement already satisfied: six in c:\\users\\nickw\\anaconda3\\lib\\site-packages (from cycler>=0.10->matplotlib) (1.16.0)\n",
      "Requirement already satisfied: requests in c:\\users\\nickw\\anaconda3\\lib\\site-packages (2.26.0)\n",
      "Requirement already satisfied: charset-normalizer~=2.0.0 in c:\\users\\nickw\\anaconda3\\lib\\site-packages (from requests) (2.0.4)\n",
      "Requirement already satisfied: urllib3<1.27,>=1.21.1 in c:\\users\\nickw\\anaconda3\\lib\\site-packages (from requests) (1.26.7)\n",
      "Requirement already satisfied: certifi>=2017.4.17 in c:\\users\\nickw\\anaconda3\\lib\\site-packages (from requests) (2021.10.8)\n",
      "Requirement already satisfied: idna<4,>=2.5 in c:\\users\\nickw\\anaconda3\\lib\\site-packages (from requests) (3.2)\n",
      "Requirement already satisfied: notebook>=5.3 in c:\\users\\nickw\\anaconda3\\lib\\site-packages (6.4.5)\n",
      "Requirement already satisfied: ipywidgets>=7.5 in c:\\users\\nickw\\anaconda3\\lib\\site-packages (7.6.5)\n",
      "Requirement already satisfied: argon2-cffi in c:\\users\\nickw\\anaconda3\\lib\\site-packages (from notebook>=5.3) (20.1.0)\n",
      "Requirement already satisfied: ipython-genutils in c:\\users\\nickw\\anaconda3\\lib\\site-packages (from notebook>=5.3) (0.2.0)\n",
      "Requirement already satisfied: nbformat in c:\\users\\nickw\\anaconda3\\lib\\site-packages (from notebook>=5.3) (5.1.3)\n",
      "Requirement already satisfied: terminado>=0.8.3 in c:\\users\\nickw\\anaconda3\\lib\\site-packages (from notebook>=5.3) (0.9.4)\n",
      "Requirement already satisfied: ipykernel in c:\\users\\nickw\\anaconda3\\lib\\site-packages (from notebook>=5.3) (6.4.1)\n",
      "Requirement already satisfied: jinja2 in c:\\users\\nickw\\anaconda3\\lib\\site-packages (from notebook>=5.3) (2.11.3)\n",
      "Requirement already satisfied: pyzmq>=17 in c:\\users\\nickw\\anaconda3\\lib\\site-packages (from notebook>=5.3) (22.2.1)\n",
      "Requirement already satisfied: traitlets>=4.2.1 in c:\\users\\nickw\\anaconda3\\lib\\site-packages (from notebook>=5.3) (5.1.0)\n",
      "Requirement already satisfied: jupyter-core>=4.6.1 in c:\\users\\nickw\\anaconda3\\lib\\site-packages (from notebook>=5.3) (4.8.1)\n",
      "Requirement already satisfied: tornado>=6.1 in c:\\users\\nickw\\anaconda3\\lib\\site-packages (from notebook>=5.3) (6.1)\n",
      "Requirement already satisfied: jupyter-client>=5.3.4 in c:\\users\\nickw\\anaconda3\\lib\\site-packages (from notebook>=5.3) (6.1.12)\n",
      "Requirement already satisfied: Send2Trash>=1.5.0 in c:\\users\\nickw\\anaconda3\\lib\\site-packages (from notebook>=5.3) (1.8.0)\n",
      "Requirement already satisfied: nbconvert in c:\\users\\nickw\\anaconda3\\lib\\site-packages (from notebook>=5.3) (6.1.0)\n",
      "Requirement already satisfied: prometheus-client in c:\\users\\nickw\\anaconda3\\lib\\site-packages (from notebook>=5.3) (0.11.0)\n",
      "Requirement already satisfied: ipython>=4.0.0 in c:\\users\\nickw\\anaconda3\\lib\\site-packages (from ipywidgets>=7.5) (7.29.0)\n",
      "Requirement already satisfied: widgetsnbextension~=3.5.0 in c:\\users\\nickw\\anaconda3\\lib\\site-packages (from ipywidgets>=7.5) (3.5.1)\n",
      "Requirement already satisfied: jupyterlab-widgets>=1.0.0 in c:\\users\\nickw\\anaconda3\\lib\\site-packages (from ipywidgets>=7.5) (1.0.0)\n",
      "Requirement already satisfied: matplotlib-inline<0.2.0,>=0.1.0 in c:\\users\\nickw\\anaconda3\\lib\\site-packages (from ipykernel->notebook>=5.3) (0.1.2)\n",
      "Requirement already satisfied: debugpy<2.0,>=1.0.0 in c:\\users\\nickw\\anaconda3\\lib\\site-packages (from ipykernel->notebook>=5.3) (1.4.1)\n",
      "Requirement already satisfied: jedi>=0.16 in c:\\users\\nickw\\anaconda3\\lib\\site-packages (from ipython>=4.0.0->ipywidgets>=7.5) (0.18.0)\n",
      "Requirement already satisfied: setuptools>=18.5 in c:\\users\\nickw\\anaconda3\\lib\\site-packages (from ipython>=4.0.0->ipywidgets>=7.5) (58.0.4)\n",
      "Requirement already satisfied: colorama in c:\\users\\nickw\\anaconda3\\lib\\site-packages (from ipython>=4.0.0->ipywidgets>=7.5) (0.4.4)\n",
      "Requirement already satisfied: backcall in c:\\users\\nickw\\anaconda3\\lib\\site-packages (from ipython>=4.0.0->ipywidgets>=7.5) (0.2.0)\n",
      "Requirement already satisfied: pygments in c:\\users\\nickw\\anaconda3\\lib\\site-packages (from ipython>=4.0.0->ipywidgets>=7.5) (2.10.0)\n",
      "Requirement already satisfied: pickleshare in c:\\users\\nickw\\anaconda3\\lib\\site-packages (from ipython>=4.0.0->ipywidgets>=7.5) (0.7.5)\n",
      "Requirement already satisfied: prompt-toolkit!=3.0.0,!=3.0.1,<3.1.0,>=2.0.0 in c:\\users\\nickw\\anaconda3\\lib\\site-packages (from ipython>=4.0.0->ipywidgets>=7.5) (3.0.20)\n",
      "Requirement already satisfied: decorator in c:\\users\\nickw\\anaconda3\\lib\\site-packages (from ipython>=4.0.0->ipywidgets>=7.5) (5.1.0)\n",
      "Requirement already satisfied: parso<0.9.0,>=0.8.0 in c:\\users\\nickw\\anaconda3\\lib\\site-packages (from jedi>=0.16->ipython>=4.0.0->ipywidgets>=7.5) (0.8.2)\n",
      "Requirement already satisfied: python-dateutil>=2.1 in c:\\users\\nickw\\anaconda3\\lib\\site-packages (from jupyter-client>=5.3.4->notebook>=5.3) (2.8.2)\n",
      "Requirement already satisfied: pywin32>=1.0 in c:\\users\\nickw\\anaconda3\\lib\\site-packages (from jupyter-core>=4.6.1->notebook>=5.3) (228)\n",
      "Requirement already satisfied: jsonschema!=2.5.0,>=2.4 in c:\\users\\nickw\\anaconda3\\lib\\site-packages (from nbformat->notebook>=5.3) (3.2.0)\n",
      "Requirement already satisfied: attrs>=17.4.0 in c:\\users\\nickw\\anaconda3\\lib\\site-packages (from jsonschema!=2.5.0,>=2.4->nbformat->notebook>=5.3) (21.2.0)\n",
      "Requirement already satisfied: six>=1.11.0 in c:\\users\\nickw\\anaconda3\\lib\\site-packages (from jsonschema!=2.5.0,>=2.4->nbformat->notebook>=5.3) (1.16.0)\n",
      "Requirement already satisfied: pyrsistent>=0.14.0 in c:\\users\\nickw\\anaconda3\\lib\\site-packages (from jsonschema!=2.5.0,>=2.4->nbformat->notebook>=5.3) (0.18.0)\n",
      "Requirement already satisfied: wcwidth in c:\\users\\nickw\\anaconda3\\lib\\site-packages (from prompt-toolkit!=3.0.0,!=3.0.1,<3.1.0,>=2.0.0->ipython>=4.0.0->ipywidgets>=7.5) (0.2.5)\n",
      "Requirement already satisfied: pywinpty>=0.5 in c:\\users\\nickw\\anaconda3\\lib\\site-packages (from terminado>=0.8.3->notebook>=5.3) (0.5.7)\n",
      "Requirement already satisfied: cffi>=1.0.0 in c:\\users\\nickw\\anaconda3\\lib\\site-packages (from argon2-cffi->notebook>=5.3) (1.14.6)\n",
      "Requirement already satisfied: pycparser in c:\\users\\nickw\\anaconda3\\lib\\site-packages (from cffi>=1.0.0->argon2-cffi->notebook>=5.3) (2.20)\n",
      "Requirement already satisfied: MarkupSafe>=0.23 in c:\\users\\nickw\\anaconda3\\lib\\site-packages (from jinja2->notebook>=5.3) (1.1.1)\n",
      "Requirement already satisfied: testpath in c:\\users\\nickw\\anaconda3\\lib\\site-packages (from nbconvert->notebook>=5.3) (0.5.0)\n",
      "Requirement already satisfied: mistune<2,>=0.8.1 in c:\\users\\nickw\\anaconda3\\lib\\site-packages (from nbconvert->notebook>=5.3) (0.8.4)\n",
      "Requirement already satisfied: bleach in c:\\users\\nickw\\anaconda3\\lib\\site-packages (from nbconvert->notebook>=5.3) (4.0.0)\n",
      "Requirement already satisfied: nbclient<0.6.0,>=0.5.0 in c:\\users\\nickw\\anaconda3\\lib\\site-packages (from nbconvert->notebook>=5.3) (0.5.3)\n",
      "Requirement already satisfied: jupyterlab-pygments in c:\\users\\nickw\\anaconda3\\lib\\site-packages (from nbconvert->notebook>=5.3) (0.1.2)\n",
      "Requirement already satisfied: entrypoints>=0.2.2 in c:\\users\\nickw\\anaconda3\\lib\\site-packages (from nbconvert->notebook>=5.3) (0.3)\n",
      "Requirement already satisfied: pandocfilters>=1.4.1 in c:\\users\\nickw\\anaconda3\\lib\\site-packages (from nbconvert->notebook>=5.3) (1.4.3)\n",
      "Requirement already satisfied: defusedxml in c:\\users\\nickw\\anaconda3\\lib\\site-packages (from nbconvert->notebook>=5.3) (0.7.1)\n",
      "Requirement already satisfied: async-generator in c:\\users\\nickw\\anaconda3\\lib\\site-packages (from nbclient<0.6.0,>=0.5.0->nbconvert->notebook>=5.3) (1.10)\n",
      "Requirement already satisfied: nest-asyncio in c:\\users\\nickw\\anaconda3\\lib\\site-packages (from nbclient<0.6.0,>=0.5.0->nbconvert->notebook>=5.3) (1.5.1)\n",
      "Requirement already satisfied: packaging in c:\\users\\nickw\\anaconda3\\lib\\site-packages (from bleach->nbconvert->notebook>=5.3) (21.0)\n",
      "Requirement already satisfied: webencodings in c:\\users\\nickw\\anaconda3\\lib\\site-packages (from bleach->nbconvert->notebook>=5.3) (0.5.1)\n",
      "Requirement already satisfied: pyparsing>=2.0.2 in c:\\users\\nickw\\anaconda3\\lib\\site-packages (from packaging->bleach->nbconvert->notebook>=5.3) (3.0.4)\n"
     ]
    },
    {
     "name": "stdout",
     "output_type": "stream",
     "text": [
      "Requirement already satisfied: plotly in c:\\users\\nickw\\anaconda3\\lib\\site-packages (5.5.0)\n",
      "Requirement already satisfied: six in c:\\users\\nickw\\anaconda3\\lib\\site-packages (from plotly) (1.16.0)\n",
      "Requirement already satisfied: tenacity>=6.2.0 in c:\\users\\nickw\\anaconda3\\lib\\site-packages (from plotly) (8.0.1)\n"
     ]
    }
   ],
   "source": [
    "##Initial Set Up\n",
    "\n",
    "!pip install pandas\n",
    "!pip install matplotlib\n",
    "!pip install requests\n",
    "!pip install \"notebook>=5.3\" \"ipywidgets>=7.5\"\n",
    "!pip install plotly\n",
    "\n",
    "import pandas as pd\n",
    "import matplotlib\n",
    "import matplotlib.pyplot as plt\n",
    "import requests\n",
    "import plotly.express as px\n",
    "import plotly.io as pio\n",
    "pio.renderers.default = 'browser'"
   ]
  },
  {
   "cell_type": "markdown",
   "id": "e96acb62",
   "metadata": {},
   "source": [
    "## Import Data\n",
    "Including Perscription data for Manchester (April 2020 & April 2021), GP registered patients (April 2020 & April 2021) and a GeoJSON mapping Manchester "
   ]
  },
  {
   "cell_type": "code",
   "execution_count": 25,
   "id": "a399b7c6",
   "metadata": {},
   "outputs": [],
   "source": [
    "M2020 = pd.read_csv (r'C:\\Users\\nickw\\OneDrive\\Documents\\Python Scripts\\Test\\Test\\EPD_202004.csv')\n",
    "\n",
    "M2021 = pd.read_csv (r'C:\\Users\\nickw\\OneDrive\\Documents\\Python Scripts\\Test\\Test\\EPD_202104.csv')\n",
    "\n",
    "##Import Population Data by Practice\n",
    "\n",
    "pop_gp_2020 = pd.read_csv (r'C:\\Users\\nickw\\OneDrive\\Documents\\Python Scripts\\Test\\Test\\gp_pop.csv')\n",
    "\n",
    "pop_gp_2021 = pd.read_csv (r'C:\\Users\\nickw\\OneDrive\\Documents\\Python Scripts\\Test\\Test\\GP_Pop_2021.csv')\n",
    "\n",
    "##Import Geojson\n",
    "\n",
    "r = requests.get('https://raw.githubusercontent.com/missinglink/uk-postcode-polygons/master/geojson/M.geojson')\n",
    "\n",
    "Manchester_Map = r.json()"
   ]
  },
  {
   "cell_type": "markdown",
   "id": "49d65c24",
   "metadata": {},
   "source": [
    "## OPTIONAL BNF CHAPTER PLUS Codes \n",
    "\n",
    "Use this section with BNF_CHAPTER_PLUS_CODE to view regional data based on specific catergories (prompted by Peters research I have run it on a \"02: Cardiovascular System\" as one of the areas of intrest and have put choropleth maps in folder)   "
   ]
  },
  {
   "cell_type": "code",
   "execution_count": null,
   "id": "12c1b6be",
   "metadata": {},
   "outputs": [],
   "source": [
    "BNF_Code = \"\"\n",
    "\n",
    "M2020 = M2020[M2020['BNF_CHAPTER_PLUS_CODE']== BNF_Code]\n",
    "\n",
    "M2021 = M2021[M2021['BNF_CHAPTER_PLUS_CODE']== BNF_Code]"
   ]
  },
  {
   "cell_type": "markdown",
   "id": "f8f45c83",
   "metadata": {},
   "source": [
    "## Clean, Link and Test Data\n",
    "\n",
    "Here we group the data by practice details (not just as postcode as some are on the same site) as well as linking the datasets by year. We then calculating cost per capita variable and also test all cells missing population data and check if they are GP Practices. "
   ]
  },
  {
   "cell_type": "code",
   "execution_count": 26,
   "id": "79e5b821",
   "metadata": {},
   "outputs": [
    {
     "name": "stdout",
     "output_type": "stream",
     "text": [
      "79                COMMUNITY PAEDIATRICIANS\n",
      "80      VIOLENT PATIENT ENHANCED SERVICE 1\n",
      "81                                    PCEC\n",
      "82                     BUCCLEUCH LODGE ICF\n",
      "84     GORTON PARKS INTERMEDIATE CARE UNIT\n",
      "86       NURSING HOME PROJECT TEAM (SOUTH)\n",
      "88           GTD HEALTHCARE GP SERVICE OOH\n",
      "92        TURNING POINT SMITHFIELD SERVICE\n",
      "93              CONTINENCE SERVICE PROJECT\n",
      "94                       NMPS TRAFFORD LCO\n",
      "95                PAHNT COMMUNITY SERVICES\n",
      "96        MFT CHILDRENS COMMUNITY SERVICES\n",
      "97            MFT ADULT COMMUNITY SERVICES\n",
      "98                 UHSM COMMUNITY SERVICES\n",
      "99                    CRISIS RESPONSE TEAM\n",
      "100        PRIMARY CARE MANCHESTER LIMITED\n",
      "101          INTERMEDIATE CARE (THE PEELE)\n",
      "102                                  SMGPF\n",
      "103        BEACON MEDICAL SERVICES LIMITED\n",
      "104                  NORTHERN HEALTH HUB 1\n",
      "105     BARTON MOSS SECURE CHILDREN'S HOME\n",
      "106           ST CATHERINE'S SECURE CENTRE\n",
      "107         CONTINENCE PRESCRIBING SERVICE\n",
      "108         NORTHERN HEALTH GPPO A & E HUB\n",
      "109    CMFT CONTINENCE PRESCRIBING SERVICE\n",
      "110             COMMUNITY PAEDIATRICS TLCO\n",
      "Name: PRACTICE_NAME, dtype: object\n"
     ]
    }
   ],
   "source": [
    "##Split the postcode\n",
    "\n",
    "M2020[['Postcode_Region', 'Postcode_Detail']] = M2020.POSTCODE.str.split(\" \", expand=True)\n",
    "\n",
    "##Group by Practice sum\n",
    "\n",
    "M2020 = M2020.groupby(['PRACTICE_CODE', 'POSTCODE', 'PRACTICE_NAME', 'Postcode_Region']).sum().reset_index()\n",
    "\n",
    "## Link with Popualtion Data for GP Practices\n",
    "\n",
    "M2020 = pd.merge(M2020,pop_gp_2020 ,on='PRACTICE_CODE',how='left')\n",
    "\n",
    "M2020 ['Cost_Capita']= M2020.ACTUAL_COST/M2020.Population\n",
    "\n",
    "##Test all rows where null \n",
    "\n",
    "TestM2020= M2020[M2020.isna().any(axis=1)]\n",
    "\n",
    "print(TestM2020['PRACTICE_NAME'])"
   ]
  },
  {
   "cell_type": "markdown",
   "id": "17fe692a",
   "metadata": {},
   "source": [
    "We can see that (through my own local knowledge and a bit of checking) that the above do not correspond to specific GP practices but are generally wider community services and other auxillary services (GP practices in ED departments etc).\n",
    "\n",
    "In the next sections we simply remove these cases, group the surgeries together by postcode, rename total cost and create a different per capitia cost (based on a static number of patients registered at the GP circa April 2021). This obviously could have changed within a year meaningfully but technical issues meant the 2020 data was less reliable"
   ]
  },
  {
   "cell_type": "code",
   "execution_count": 27,
   "id": "8fc60160",
   "metadata": {},
   "outputs": [],
   "source": [
    "M2020 = M2020[M2020['Population'].notna()]\n",
    "\n",
    "M2020.rename(columns = {'ACTUAL_COST' : 'Actual_Cost_2020'}, inplace= True)\n",
    "\n",
    "##New Dataset by Postcode\n",
    "\n",
    "M2020_Postcode = M2020.groupby(['Postcode_Region']).sum().reset_index()\n",
    "\n",
    "M2020_Postcode['Cost_Capita2']= M2020_Postcode.Actual_Cost_2020/M2020_Postcode.Population"
   ]
  },
  {
   "cell_type": "markdown",
   "id": "2d166c21",
   "metadata": {},
   "source": [
    "We then repeat the process for 2021 data as above"
   ]
  },
  {
   "cell_type": "code",
   "execution_count": 28,
   "id": "963d1740",
   "metadata": {},
   "outputs": [
    {
     "name": "stdout",
     "output_type": "stream",
     "text": [
      "79                COMMUNITY PAEDIATRICIANS\n",
      "80                                    PCEC\n",
      "81                     BUCCLEUCH LODGE ICF\n",
      "83                       INTERMEDIATE CARE\n",
      "84     GORTON PARKS INTERMEDIATE CARE UNIT\n",
      "86       NURSING HOME PROJECT TEAM (SOUTH)\n",
      "88           GTD HEALTHCARE GP SERVICE OOH\n",
      "92        TURNING POINT SMITHFIELD SERVICE\n",
      "93              CONTINENCE SERVICE PROJECT\n",
      "94                       NMPS TRAFFORD LCO\n",
      "95                PAHNT COMMUNITY SERVICES\n",
      "96        MFT CHILDRENS COMMUNITY SERVICES\n",
      "97            MFT ADULT COMMUNITY SERVICES\n",
      "98                 UHSM COMMUNITY SERVICES\n",
      "99                    CRISIS RESPONSE TEAM\n",
      "100        PRIMARY CARE MANCHESTER LIMITED\n",
      "101                                  SMGPF\n",
      "102        BEACON MEDICAL SERVICES LIMITED\n",
      "103                  WIGAN ASSESSMENT TEAM\n",
      "104         CONTINENCE PRESCRIBING SERVICE\n",
      "105             NORTHERN HEALTH GPPO HUB 4\n",
      "106         NORTHERN HEALTH GPPO A & E HUB\n",
      "107            WIGAN & LEIGH RECOVERY TEAM\n",
      "108              WIGAN HOME TREATMENT TEAM\n",
      "109                          LD TEAM WIGAN\n",
      "110                            WIGAN CAMHS\n",
      "111    CMFT CONTINENCE PRESCRIBING SERVICE\n",
      "112              WIGAN RECOVERY TEAM NORTH\n",
      "113             ADULT ADHD WIGAN/LEIGH NMP\n",
      "114             COMMUNITY PAEDIATRICS TLCO\n",
      "Name: PRACTICE_NAME, dtype: object\n"
     ]
    }
   ],
   "source": [
    "M2021[['Postcode_Region', 'Postcode_Detail']] = M2021.POSTCODE.str.split(\" \", expand=True)\n",
    "\n",
    "M2021 = M2021.groupby(['PRACTICE_CODE', 'POSTCODE', 'PRACTICE_NAME', 'Postcode_Region']).sum().reset_index()\n",
    "\n",
    "M2021 = pd.merge(M2021,pop_gp_2021 ,on='PRACTICE_CODE',how='left')\n",
    "\n",
    "M2021['Cost_Capita']= M2021.ACTUAL_COST/M2021.Population\n",
    "\n",
    "##Test all null rows are non-specific to GP Practice\n",
    "\n",
    "TestM2021= M2021[M2021.isna().any(axis=1)]\n",
    "\n",
    "print(TestM2021['PRACTICE_NAME'])\n",
    "\n",
    "M2021 = M2021[M2021['Population'].notna()]\n",
    "\n",
    "## Rename Actual Cost as Well\n",
    "\n",
    "M2021.rename(columns = {'ACTUAL_COST' : 'Actual_Cost_2021'}, inplace= True)\n",
    "\n",
    "M2021_Postcode = M2021.groupby(['Postcode_Region']).sum().reset_index()\n",
    "\n",
    "M2021_Postcode['Cost_Capita2']= M2021_Postcode.Actual_Cost_2021/M2021_Postcode.Population"
   ]
  },
  {
   "cell_type": "markdown",
   "id": "fc989ba9",
   "metadata": {},
   "source": [
    "## Create base data frames for analysis\n",
    "In this section we create a new table to compare site cost removing irrelevant columns and adding extra columns for % change and then set the index to practice name"
   ]
  },
  {
   "cell_type": "code",
   "execution_count": 29,
   "id": "31f2a407",
   "metadata": {},
   "outputs": [],
   "source": [
    "##Rename Columns\n",
    "\n",
    "M2020.rename(columns = {'Cost_Capita' : 'Cost_2020'}, inplace= True)\n",
    "\n",
    "M2021.rename(columns = {'Cost_Capita' : 'Cost_2021'}, inplace= True)\n",
    "\n",
    "##Merge 2020/2021\n",
    "\n",
    "Site_Cost = pd.merge(M2020,M2021, how='outer', on= 'PRACTICE_CODE')\n",
    "\n",
    "##Remove unneccessary columns\n",
    "\n",
    "Site_Cost = Site_Cost.iloc[:, [0, 2, 3, 10, 13, 23, 27]]\n",
    "\n",
    "##Percentage Change\n",
    "\n",
    "Site_Cost['Percentage_Change']= (Site_Cost.Cost_2021/Site_Cost.Cost_2020-1)*100\n",
    "\n",
    "Site_Cost['Percentage_Change_Total']= (Site_Cost.Actual_Cost_2021/Site_Cost.Actual_Cost_2020-1)*100\n",
    "\n",
    "## Sort by 2021\n",
    "\n",
    "Site_Cost =Site_Cost.sort_values(by = 'Cost_2021', ascending= False)\n",
    "\n",
    "Site_Cost.set_index(\"PRACTICE_NAME_x\", drop=False, inplace = True)"
   ]
  },
  {
   "cell_type": "markdown",
   "id": "1c9e49c7",
   "metadata": {},
   "source": [
    "We complete a similar process for Postcodes but group these at the later stage."
   ]
  },
  {
   "cell_type": "code",
   "execution_count": 30,
   "id": "be39fed7",
   "metadata": {},
   "outputs": [],
   "source": [
    "## Merge for Postcode\n",
    "\n",
    "M2021_Postcode.rename(columns = {'Cost_Capita2' : 'Cost_2021'}, inplace= True)\n",
    "\n",
    "M2020_Postcode.rename(columns = {'Cost_Capita2' : 'Cost_2020'}, inplace= True)\n",
    "\n",
    "M2020_Postcode = M2020_Postcode.iloc[:, [0, 7, 11]]\n",
    "\n",
    "M2021_Postcode = M2021_Postcode.iloc[:, [0, 7, 11]]\n",
    "\n",
    "Postcode_Cost = pd.merge(M2020_Postcode,M2021_Postcode, how='outer', on= 'Postcode_Region')\n",
    "\n",
    "Postcode_Cost['Percentage_Change']= (Postcode_Cost.Cost_2021/Postcode_Cost.Cost_2020-1)*100\n",
    "\n",
    "Postcode_Cost['Percentage_Change_Total']= (Postcode_Cost.Actual_Cost_2021/Postcode_Cost.Actual_Cost_2020-1)*100"
   ]
  },
  {
   "cell_type": "markdown",
   "id": "fec3be63",
   "metadata": {},
   "source": [
    "## Exploratory Visuals for GP Practice level  Perscription Spend (Per Capita)\n",
    "very quick boxplots to assess difference between costs"
   ]
  },
  {
   "cell_type": "code",
   "execution_count": 31,
   "id": "72d73358",
   "metadata": {},
   "outputs": [
    {
     "data": {
      "image/png": "[encoded data removed]",
      "text/plain": [
       "<Figure size 432x288 with 1 Axes>"
      ]
     },
     "metadata": {
      "needs_background": "light"
     },
     "output_type": "display_data"
    }
   ],
   "source": [
    "Comparison_Practice_21_22 = Site_Cost[['Cost_2020', 'Cost_2021']].boxplot()"
   ]
  },
  {
   "cell_type": "markdown",
   "id": "82099100",
   "metadata": {},
   "source": [
    "We can see quite a wide variation in per capita spend and limited change in average hovering around the £12 mark\n",
    "\n",
    "The next chart for 2021 only is a impractical chart for actually reading the practice names but gives an idea of spread as well.  but we do see that there is some variation worth exploring (seperate groups at top and bottom) for PHE. It also crucially from a spend perspective highlights the different levels of need of practices."
   ]
  },
  {
   "cell_type": "code",
   "execution_count": 32,
   "id": "c16acee6",
   "metadata": {},
   "outputs": [
    {
     "data": {
      "image/png": "[encoded data removed]",
      "text/plain": [
       "<Figure size 432x288 with 1 Axes>"
      ]
     },
     "metadata": {
      "needs_background": "light"
     },
     "output_type": "display_data"
    }
   ],
   "source": [
    "Bar_Site = Site_Cost.plot(kind = 'barh', y= 'Cost_2021', x='PRACTICE_NAME_x').tick_params(axis= 'y' , labelsize = 2)"
   ]
  },
  {
   "cell_type": "markdown",
   "id": "3128e654",
   "metadata": {},
   "source": [
    "We do see that there is some variation worth exploring (seperate groups at top and bottom) for PHE. It also crucially from a spend perspective highlights the different levels of need of practices."
   ]
  },
  {
   "cell_type": "markdown",
   "id": "0bd2c31b",
   "metadata": {},
   "source": [
    "## Sites of Intrest for PHE\n",
    "The next two charts highlight the top and bottom spenders "
   ]
  },
  {
   "cell_type": "code",
   "execution_count": 33,
   "id": "37b89c57",
   "metadata": {
    "scrolled": true
   },
   "outputs": [
    {
     "data": {
      "text/plain": [
       "<matplotlib.legend.Legend at 0x21f4d3b8490>"
      ]
     },
     "execution_count": 33,
     "metadata": {},
     "output_type": "execute_result"
    },
    {
     "data": {
      "image/png": "[encoded data removed]",
      "text/plain": [
       "<Figure size 432x288 with 1 Axes>"
      ]
     },
     "metadata": {
      "needs_background": "light"
     },
     "output_type": "display_data"
    }
   ],
   "source": [
    "## Top 10\n",
    "\n",
    "Site_Cost_Top_10 = Site_Cost.nlargest(10, \"Cost_2021\")\n",
    "\n",
    "Top_10 = Site_Cost_Top_10[['Cost_2021', 'Cost_2020']].plot.barh()\n",
    "plt.ylabel('PRACTICE NAME')\n",
    "plt.xlabel('Cost Per Capita (£), April')\n",
    "plt.title('Top 10 Highest Spending (Per Capita) GP Surgeries')\n",
    "plt.legend(bbox_to_anchor=(1.05, 1.0), loc='upper left')"
   ]
  },
  {
   "cell_type": "markdown",
   "id": "dc9da2ae",
   "metadata": {},
   "source": [
    "I would suggest that PHE would look at these high spending practices (particuarly those with increases year on year) to help plan stocking and also potentially factor impact into budgeting of any health improvment project they have planned. Equally, this could be just regional variation (age etc.) but likely oppitunties to mitigate health inequalities might impact some of these. "
   ]
  },
  {
   "cell_type": "code",
   "execution_count": 34,
   "id": "4f8e826c",
   "metadata": {},
   "outputs": [
    {
     "data": {
      "image/png": "[encoded data removed]",
      "text/plain": [
       "<Figure size 432x288 with 1 Axes>"
      ]
     },
     "metadata": {
      "needs_background": "light"
     },
     "output_type": "display_data"
    }
   ],
   "source": [
    "# Bottom 10\n",
    "\n",
    "Site_Cost_Bottom_10 = Site_Cost.nsmallest(10, \"Cost_2021\")\n",
    "\n",
    "Bottom_10 = Site_Cost_Bottom_10[['Cost_2021', 'Cost_2020']].plot.barh()\n",
    "plt.ylabel('PRACTICE NAME')\n",
    "plt.xlabel('Cost Per Capita (£), April')\n",
    "plt.title('Bottom 10 Spending (Per Capita) GP Surgeries')\n",
    "plt.show()"
   ]
  },
  {
   "cell_type": "markdown",
   "id": "86c57df0",
   "metadata": {},
   "source": [
    "Similarly these are practices of intrest when budgeting next year. Particuarly of note is Fallowfield Medical Centre which has dropped expenditure considerably but this is likely to be due to a high 2020 (COVID first wave) rather than continued trend as it is the most student dominated medical practice. Might be worth investigating futher.\n",
    "\n",
    "The next section looks at the variation rather than the totals"
   ]
  },
  {
   "cell_type": "code",
   "execution_count": 35,
   "id": "9e9d030e",
   "metadata": {},
   "outputs": [
    {
     "name": "stdout",
     "output_type": "stream",
     "text": [
      "       Actual_Cost_2020  Cost_2020  Actual_Cost_2021  Cost_2021  \\\n",
      "count         85.000000  85.000000         85.000000  85.000000   \n",
      "mean       88865.179547  11.850550      91747.120462  12.029193   \n",
      "std        39368.579570   3.305455      40895.032472   3.200868   \n",
      "min        18049.789020   3.120043      19005.347650   3.437274   \n",
      "25%        57849.806350   9.507459      61639.863040   9.988564   \n",
      "50%        88044.327140  11.956393      91269.235510  12.159857   \n",
      "75%       116318.196650  14.089607     116682.678820  14.330138   \n",
      "max       190527.060670  18.845562     190169.621640  19.399125   \n",
      "\n",
      "       Percentage_Change  Percentage_Change_Total  \n",
      "count          85.000000                85.000000  \n",
      "mean            2.407316                 3.599467  \n",
      "std             9.367835                 9.363730  \n",
      "min           -28.543823               -14.527816  \n",
      "25%            -3.613998                -2.093695  \n",
      "50%             3.202806                 3.319912  \n",
      "75%             6.768971                 9.437349  \n",
      "max            42.611368                43.073226  \n",
      "                              PRACTICE_CODE                PRACTICE_NAME_x  \\\n",
      "PRACTICE_NAME_x                                                              \n",
      "AL-SHIFA MEDICAL CENTRE              P84665        AL-SHIFA MEDICAL CENTRE   \n",
      "THE ARCH MEDICAL PRACTICE            P84630      THE ARCH MEDICAL PRACTICE   \n",
      "AILSA CRAIG MEDICAL CENTRE           P84009     AILSA CRAIG MEDICAL CENTRE   \n",
      "NEW COLLEGIATE MEDICAL CENTRE        P84030  NEW COLLEGIATE MEDICAL CENTRE   \n",
      "MANCHESTER MEDICAL                   P84616             MANCHESTER MEDICAL   \n",
      "\n",
      "                              Postcode_Region_x  Actual_Cost_2020  Cost_2020  \\\n",
      "PRACTICE_NAME_x                                                                \n",
      "AL-SHIFA MEDICAL CENTRE                     M20       18049.78902   6.495066   \n",
      "THE ARCH MEDICAL PRACTICE                   M15      105421.09024   5.271582   \n",
      "AILSA CRAIG MEDICAL CENTRE                  M13      115564.44893  10.272395   \n",
      "NEW COLLEGIATE MEDICAL CENTRE                M8      158372.70892  11.271277   \n",
      "MANCHESTER MEDICAL                          M14       74673.84911   9.347083   \n",
      "\n",
      "                               Actual_Cost_2021  Cost_2021  Percentage_Change  \\\n",
      "PRACTICE_NAME_x                                                                 \n",
      "AL-SHIFA MEDICAL CENTRE             25824.41542   9.262703          42.611368   \n",
      "THE ARCH MEDICAL PRACTICE          122015.07729   6.389897          21.214032   \n",
      "AILSA CRAIG MEDICAL CENTRE         142057.08812  12.406733          20.777404   \n",
      "NEW COLLEGIATE MEDICAL CENTRE      180515.35591  13.131255          16.501927   \n",
      "MANCHESTER MEDICAL                  93860.63610  10.872308          16.317654   \n",
      "\n",
      "                               Percentage_Change_Total  \n",
      "PRACTICE_NAME_x                                         \n",
      "AL-SHIFA MEDICAL CENTRE                      43.073226  \n",
      "THE ARCH MEDICAL PRACTICE                    15.740671  \n",
      "AILSA CRAIG MEDICAL CENTRE                   22.924558  \n",
      "NEW COLLEGIATE MEDICAL CENTRE                13.981353  \n",
      "MANCHESTER MEDICAL                           25.694118  \n"
     ]
    },
    {
     "data": {
      "image/png": "[encoded data removed]",
      "text/plain": [
       "<Figure size 432x288 with 1 Axes>"
      ]
     },
     "metadata": {
      "needs_background": "light"
     },
     "output_type": "display_data"
    }
   ],
   "source": [
    "#Change difference\n",
    "\n",
    "Site_Cost =Site_Cost.sort_values(by = 'Percentage_Change', ascending= False)\n",
    "\n",
    "Site_Change = Site_Cost.boxplot( column = \"Percentage_Change\", return_type = 'axes')\n",
    "\n",
    "print(Site_Cost.describe())\n",
    "\n",
    "print(Site_Cost.head())"
   ]
  },
  {
   "cell_type": "markdown",
   "id": "1a7a8bec",
   "metadata": {},
   "source": [
    "I think its important to look at the percentage change as meaning we can't really predict on a surgery by surgery level to a very specific degree of needs. I think we would need to assess the outliers quite closely as thes are both warning signs (although the lower one for fallowfield is liekly to be seeing 2020 as the blip not vis-versa.\n",
    "\n",
    "Finally, we can summarise by saying overall expenditure is showing a relatively small growth (3.2%) but the variation by practice is less predicatable (IQR = -3.6, 6.8%) with some practices having considerable variation. "
   ]
  },
  {
   "cell_type": "markdown",
   "id": "0fd79efa",
   "metadata": {},
   "source": [
    "## Regional Data\n",
    "First we plot the Cost per Capita of each Postcode District (based on surgery location not patient location) "
   ]
  },
  {
   "cell_type": "code",
   "execution_count": 36,
   "id": "5144df6c",
   "metadata": {},
   "outputs": [
    {
     "name": "stdout",
     "output_type": "stream",
     "text": [
      "       Actual_Cost_2020  Cost_2020  Actual_Cost_2021  Cost_2021  \\\n",
      "count         17.000000  17.000000         17.000000  17.000000   \n",
      "mean      444325.897735  11.148868     458735.602308  11.395905   \n",
      "std       212908.261229   3.049283     216958.121214   3.043180   \n",
      "min        88350.012970   4.076689      89796.390440   4.258781   \n",
      "25%       234201.027000   9.966159     238274.362020   9.476993   \n",
      "50%       402330.952740  12.124430     442765.516090  12.288518   \n",
      "75%       622993.559840  12.954887     626471.822310  13.494134   \n",
      "max       732820.364910  14.852987     784902.032580  15.619008   \n",
      "\n",
      "       Percentage_Change  Percentage_Change_Total  \n",
      "count          17.000000                17.000000  \n",
      "mean            2.675648                 3.665956  \n",
      "std             4.615938                 3.509890  \n",
      "min            -4.908271                -2.430453  \n",
      "25%            -0.107695                 1.637099  \n",
      "50%             2.830485                 3.845278  \n",
      "75%             4.466645                 5.085629  \n",
      "max            12.135528                10.050075  \n"
     ]
    },
    {
     "data": {
      "image/png": "[encoded data removed]",
      "text/plain": [
       "<Figure size 432x288 with 1 Axes>"
      ]
     },
     "metadata": {
      "needs_background": "light"
     },
     "output_type": "display_data"
    }
   ],
   "source": [
    "print(Postcode_Cost.describe())\n",
    "\n",
    "Postcode_Cost =Postcode_Cost.sort_values(by = 'Cost_2021', ascending= False)\n",
    "\n",
    "Postcode_Cost.set_index(\"Postcode_Region\", drop=False, inplace = True)\n",
    "\n",
    "Postcode_Bar = Postcode_Cost[['Cost_2021', 'Cost_2020']].plot.bar()\n",
    "plt.xlabel('Postcode Region')\n",
    "plt.ylabel('Cost Per Capita (£), April')\n",
    "plt.title('Postcode Per Capita Cost')\n",
    "plt.show()"
   ]
  },
  {
   "cell_type": "markdown",
   "id": "b546147d",
   "metadata": {},
   "source": [
    "Again we see quite a range of variation with patients in M1 (central manchester having a lot less percription expenditure) then those in Wythenshawe and Gatley M22. Again local comparisons could potentially offer some explanations for this (Age is a clear possible explanation with city centre being the youngest area) but also can relate to depreviation and a myriad of factors. "
   ]
  },
  {
   "cell_type": "markdown",
   "id": "23ab01b3",
   "metadata": {},
   "source": [
    "## Maps\n",
    "\n",
    "Below I have created link ID's to postcode dataset and GeoJSon and the created Plotly interactive Choropleths which (if using in JUypter should load in browser (depending on settings) also included in repo. The colours correspond to spend April 2020, April 2021 and % change respectively. "
   ]
  },
  {
   "cell_type": "code",
   "execution_count": 37,
   "id": "03a85946",
   "metadata": {},
   "outputs": [],
   "source": [
    "Manchester_Map['features'][1]['properties']\n",
    "\n",
    "Postcode_Cost['id']= Postcode_Cost['Postcode_Region']\n",
    "\n",
    "Postcode_Dictionary = {}\n",
    "\n",
    "for feature in Manchester_Map['features']:\n",
    "    feature['id']=feature['properties']['name']\n",
    "    Postcode_Dictionary[feature['properties']['name']] =feature['id']\n",
    "    \n",
    "fig1 = px.choropleth(Postcode_Cost, locations = 'id', geojson= Manchester_Map, color= 'Cost_2021', hover_name='Postcode_Region', title= \"Cost Per Capita April 2021\" )\n",
    "fig1.update_geos(fitbounds = \"locations\", visible= False)\n",
    "fig1.show()\n",
    "\n",
    "fig2 = px.choropleth(Postcode_Cost, locations = 'id', geojson= Manchester_Map, color= 'Cost_2020', hover_name='Postcode_Region', title= \"Cost Per Capita April 2020\" )\n",
    "fig2.update_geos(fitbounds = \"locations\", visible= False)\n",
    "fig2.show()\n",
    "\n",
    "fig3 = px.choropleth(Postcode_Cost, locations = 'id', geojson= Manchester_Map, color= 'Percentage_Change', hover_name='Postcode_Region', title= \"Percentage Change in cost\" )\n",
    "fig3.update_geos(fitbounds = \"locations\", visible= False)\n",
    "fig3.show()"
   ]
  },
  {
   "cell_type": "markdown",
   "id": "dafea0f0",
   "metadata": {},
   "source": [
    "We can see the grouping in 2020 map of the high cost areas per capita with the two southern and north east being quite clearly the most extreme and central zones carrying lower expenditure. The change from 2021 in the high values shows the south still carrying a substantial higher cost and this seems to be due marginal decrease in costs for M9 & M40 -3.4% and 0% change respectively and increases for M23 and M22 of 2.8% and 6.6% for year on year. The last obvious zone of change (is although starting below the average expenditure the band below the city centre M15 and M13 are carrying growth of 12.1% & 11.3% respectively and PHE should pay attention to this."
   ]
  }
 ],
 "metadata": {
  "celltoolbar": "Edit Metadata",
  "kernelspec": {
   "display_name": "Python 3 (ipykernel)",
   "language": "python",
   "name": "python3"
  },
  "language_info": {
   "codemirror_mode": {
    "name": "ipython",
    "version": 3
   },
   "file_extension": ".py",
   "mimetype": "text/x-python",
   "name": "python",
   "nbconvert_exporter": "python",
   "pygments_lexer": "ipython3",
   "version": "3.9.7"
  }
 },
 "nbformat": 4,
 "nbformat_minor": 5
}
